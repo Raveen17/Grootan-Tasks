{
  "nbformat": 4,
  "nbformat_minor": 0,
  "metadata": {
    "colab": {
      "provenance": [],
      "collapsed_sections": [],
      "authorship_tag": "ABX9TyP+g1y0ICuDNeQR1Kvlnixt",
      "include_colab_link": true
    },
    "kernelspec": {
      "name": "python3",
      "display_name": "Python 3"
    },
    "language_info": {
      "name": "python"
    }
  },
  "cells": [
    {
      "cell_type": "markdown",
      "metadata": {
        "id": "view-in-github",
        "colab_type": "text"
      },
      "source": [
        "<a href=\"https://colab.research.google.com/github/Raveen17/Grootan-Tasks/blob/main/Python_Tutorial.ipynb\" target=\"_parent\"><img src=\"https://colab.research.google.com/assets/colab-badge.svg\" alt=\"Open In Colab\"/></a>"
      ]
    },
    {
      "cell_type": "code",
      "execution_count": 2,
      "metadata": {
        "colab": {
          "base_uri": "https://localhost:8080/"
        },
        "id": "haZc-UJjVIxa",
        "outputId": "44c6c905-df19-4034-a1d9-6811a60590ce"
      },
      "outputs": [
        {
          "output_type": "stream",
          "name": "stdout",
          "text": [
            "Hello World !\n"
          ]
        }
      ],
      "source": [
        "print(\"Hello World !\")\n"
      ]
    },
    {
      "cell_type": "code",
      "source": [
        "a = 5\n",
        "b = 10\n",
        "c = a + b\n",
        "print(c)"
      ],
      "metadata": {
        "colab": {
          "base_uri": "https://localhost:8080/"
        },
        "id": "nW4aTrZba8Eq",
        "outputId": "e4843780-20a5-4672-dd2f-6e05c4da6bae"
      },
      "execution_count": 8,
      "outputs": [
        {
          "output_type": "stream",
          "name": "stdout",
          "text": [
            "15\n"
          ]
        }
      ]
    },
    {
      "cell_type": "markdown",
      "source": [
        "Variables"
      ],
      "metadata": {
        "id": "M29vesTGe3l8"
      }
    },
    {
      "cell_type": "code",
      "source": [
        "x = 15\n",
        "y = 100\n",
        "print(x+y)\n"
      ],
      "metadata": {
        "colab": {
          "base_uri": "https://localhost:8080/"
        },
        "id": "zO87-zMAe6Pl",
        "outputId": "1257d137-f745-4001-d822-e09b022a0712"
      },
      "execution_count": 9,
      "outputs": [
        {
          "output_type": "stream",
          "name": "stdout",
          "text": [
            "115\n"
          ]
        }
      ]
    },
    {
      "cell_type": "code",
      "source": [
        "x = \"Raveen\"\n",
        "x = 2\n",
        "print(x)"
      ],
      "metadata": {
        "colab": {
          "base_uri": "https://localhost:8080/"
        },
        "id": "bGmFzAmTgsb8",
        "outputId": "ac811cba-1ce1-4687-cdb5-53e7f5573ee2"
      },
      "execution_count": 16,
      "outputs": [
        {
          "output_type": "stream",
          "name": "stdout",
          "text": [
            "2\n"
          ]
        }
      ]
    },
    {
      "cell_type": "markdown",
      "source": [
        "Casting"
      ],
      "metadata": {
        "id": "xX9zfCzOic8C"
      }
    },
    {
      "cell_type": "code",
      "source": [
        "x = int(3)\n",
        "y = str(3)\n",
        "z = float(3)\n",
        "print(x,y,z)"
      ],
      "metadata": {
        "colab": {
          "base_uri": "https://localhost:8080/"
        },
        "id": "EUD44aQkia5e",
        "outputId": "93e3e109-972c-4342-fec9-53ce3e6b24b1"
      },
      "execution_count": 19,
      "outputs": [
        {
          "output_type": "stream",
          "name": "stdout",
          "text": [
            "3 3 3.0\n"
          ]
        }
      ]
    },
    {
      "cell_type": "markdown",
      "source": [
        "Get the Type"
      ],
      "metadata": {
        "id": "BT-Zh338i1Tw"
      }
    },
    {
      "cell_type": "code",
      "source": [
        "x = 10000\n",
        "y = \"Standard\"\n",
        "print(type(x))\n",
        "print(type(y))\n"
      ],
      "metadata": {
        "colab": {
          "base_uri": "https://localhost:8080/"
        },
        "id": "vxa_yCpEi06g",
        "outputId": "3518a492-13d2-4fb9-a1d6-3d60ea80d061"
      },
      "execution_count": 22,
      "outputs": [
        {
          "output_type": "stream",
          "name": "stdout",
          "text": [
            "<class 'int'>\n",
            "<class 'str'>\n"
          ]
        }
      ]
    },
    {
      "cell_type": "markdown",
      "source": [
        "Comments and Multiline Comments"
      ],
      "metadata": {
        "id": "xkEHGeqmfobV"
      }
    },
    {
      "cell_type": "code",
      "source": [
        "#this is command\n",
        "print(\"HEY\")\n",
        "\"\"\"\"\"\"\n",
        "#this is command\n",
        "#line function\n",
        "\"\"\"\"\"\"\n",
        "print(\"How are you\")"
      ],
      "metadata": {
        "colab": {
          "base_uri": "https://localhost:8080/"
        },
        "id": "oaXlhSpHftcl",
        "outputId": "07388c7b-daa5-4450-deb4-92656e890260"
      },
      "execution_count": 13,
      "outputs": [
        {
          "output_type": "stream",
          "name": "stdout",
          "text": [
            "HEY\n",
            "How are you\n"
          ]
        }
      ]
    },
    {
      "cell_type": "markdown",
      "source": [
        "Case Sensitive"
      ],
      "metadata": {
        "id": "alrnyQv2ldwh"
      }
    },
    {
      "cell_type": "code",
      "source": [
        "a = 'Hello'\n",
        "A = \"hii\"\n",
        "print(A)\n",
        "print(a)"
      ],
      "metadata": {
        "colab": {
          "base_uri": "https://localhost:8080/"
        },
        "id": "AyJnu6B1lgx8",
        "outputId": "aa7737f2-b230-4256-e9f8-20410b8bb40a"
      },
      "execution_count": 25,
      "outputs": [
        {
          "output_type": "stream",
          "name": "stdout",
          "text": [
            "hii\n",
            "Hello\n"
          ]
        }
      ]
    },
    {
      "cell_type": "markdown",
      "source": [
        "Variable Names"
      ],
      "metadata": {
        "id": "3hAcqbBqnndA"
      }
    },
    {
      "cell_type": "code",
      "source": [
        "myname = \"lowercase\"\n",
        "Myname = \"Combination\"\n",
        "MYNAME = \"Uppercase\"\n",
        "__myname = \"Underscore lowercase\"\n",
        "__MYNAME = \"Underscore uppercase\"\n",
        "__Myname = \"Underscore Combo\"\n",
        "myname12 = \"Alpha numeric\"\n",
        "my_name12 = \"GOD father\"\n",
        "print(myname)\n",
        "print(Myname)\n",
        "print(MYNAME)\n",
        "print(__myname)\n",
        "print(__MYNAME)\n",
        "print(__Myname)\n",
        "print(myname12)\n",
        "print(my_name12)"
      ],
      "metadata": {
        "colab": {
          "base_uri": "https://localhost:8080/"
        },
        "id": "5Wkh9AOmnp_W",
        "outputId": "27697895-5117-417c-bf96-8bec31a7460b"
      },
      "execution_count": 27,
      "outputs": [
        {
          "output_type": "stream",
          "name": "stdout",
          "text": [
            "lowercase\n",
            "Combination\n",
            "Uppercase\n",
            "Underscore lowercase\n",
            "Underscore uppercase\n",
            "Underscore Combo\n",
            "Alpha numeric\n",
            "GOD father\n"
          ]
        }
      ]
    },
    {
      "cell_type": "markdown",
      "source": [
        "Camel Case"
      ],
      "metadata": {
        "id": "P6rebhtlqZpR"
      }
    },
    {
      "cell_type": "code",
      "source": [
        "myStringName = \"Camel case : Each word except first, starts with capital letter\"\n",
        "print(myStringName)"
      ],
      "metadata": {
        "colab": {
          "base_uri": "https://localhost:8080/"
        },
        "id": "hbLqjBogqgV9",
        "outputId": "65bd57ea-8af7-4967-de68-cff15b4b9903"
      },
      "execution_count": 32,
      "outputs": [
        {
          "output_type": "stream",
          "name": "stdout",
          "text": [
            "Camel case : Each word except first, starts with capital letter\n"
          ]
        }
      ]
    },
    {
      "cell_type": "markdown",
      "source": [
        "Pascal Case"
      ],
      "metadata": {
        "id": "hwsncJj6rXQR"
      }
    },
    {
      "cell_type": "code",
      "source": [
        "MyStringName = \"Pascal case : Each word stars with a capital letter\"\n",
        "print(MyStringName)"
      ],
      "metadata": {
        "colab": {
          "base_uri": "https://localhost:8080/"
        },
        "id": "BIoV0JGmrcUo",
        "outputId": "0f4e17f3-a267-4471-f1eb-5a6d72d834eb"
      },
      "execution_count": 33,
      "outputs": [
        {
          "output_type": "stream",
          "name": "stdout",
          "text": [
            "Pascal case : Each word stars with a capital letter\n"
          ]
        }
      ]
    },
    {
      "cell_type": "markdown",
      "source": [
        "Snake Case"
      ],
      "metadata": {
        "id": "Un9LSzNYr_0O"
      }
    },
    {
      "cell_type": "code",
      "source": [
        "my_string_name = \"Each word is seperated by underscore\"\n",
        "MY_STRING_NAME = \"Each word is seperated by underscore\"\n",
        "My_String_Name = \"Each word is seperated by underscore\"\n",
        "print(my_string_name)\n",
        "print(MY_STRING_NAME)\n",
        "print(My_String_Name)"
      ],
      "metadata": {
        "colab": {
          "base_uri": "https://localhost:8080/"
        },
        "id": "eGEvKcFSsCPM",
        "outputId": "83f50cee-e22b-43a3-f2e5-6e588a4b1d2d"
      },
      "execution_count": 35,
      "outputs": [
        {
          "output_type": "stream",
          "name": "stdout",
          "text": [
            "Each word is seperated by underscore\n",
            "Each word is seperated by underscore\n",
            "Each word is seperated by underscore\n"
          ]
        }
      ]
    }
  ]
}